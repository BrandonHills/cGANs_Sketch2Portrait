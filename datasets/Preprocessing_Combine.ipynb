{
 "cells": [
  {
   "cell_type": "code",
   "execution_count": 2,
   "metadata": {
    "collapsed": true
   },
   "outputs": [],
   "source": [
    "import os\n",
    "import numpy as np\n",
    "import cv2\n",
    "import argparse"
   ]
  },
  {
   "cell_type": "code",
   "execution_count": null,
   "metadata": {
    "collapsed": true
   },
   "outputs": [],
   "source": []
  },
  {
   "cell_type": "code",
   "execution_count": null,
   "metadata": {
    "collapsed": true
   },
   "outputs": [],
   "source": [
    "\n",
    "# Returns a list of the names of the entries in a directory path.\n",
    "print(\"args.fold_A:\", args.fold_A)\n",
    "splits = os.listdir(args.fold_A)\n",
    "print(\"splits:\", splits)\n",
    "\n",
    "if \".DS_Store\" in splits:\n",
    "    print(\".DS_Store Removed...\")\n",
    "    splits.remove(\".DS_Store\")\n",
    "\n",
    "for sp in splits:\n",
    "    img_fold_A = os.path.join(args.fold_A, sp)\n",
    "    print(\"img_fold_A\",img_fold_A)\n",
    "    img_fold_B = os.path.join(args.fold_B, sp)\n",
    "    img_list = os.listdir(img_fold_A)\n",
    "\n",
    "    if args.use_AB:\n",
    "        img_list = [img_path for img_path in img_list if '_A.' in img_path]\n",
    "\n",
    "    num_imgs = min(args.num_imgs, len(img_list))\n",
    "    print('split = %s, use %d/%d images' % (sp, num_imgs, len(img_list)))\n",
    "    img_fold_AB = os.path.join(args.fold_AB, sp)\n",
    "    if not os.path.isdir(img_fold_AB):\n",
    "        os.makedirs(img_fold_AB)\n",
    "    print('split = %s, number of images = %d' % (sp, num_imgs))\n",
    "\n",
    "    for n in range(num_imgs):\n",
    "        name_A = img_list[n]\n",
    "        path_A = os.path.join(img_fold_A, name_A)\n",
    "\n",
    "        if args.use_AB:\n",
    "            name_B = name_A.replace('_A.', '_B.')\n",
    "        else:\n",
    "            name_B = name_A\n",
    "        path_B = os.path.join(img_fold_B, name_B)\n",
    "\n",
    "        print(\"Current Image:\", path_A, path_B)\n",
    "\n",
    "        if os.path.isfile(path_A) and os.path.isfile(path_B):\n",
    "            name_AB = name_A\n",
    "            if args.use_AB:\n",
    "                name_AB = name_AB.replace('_A.', '.') # remove _A\n",
    "            path_AB = os.path.join(img_fold_AB, name_AB)\n",
    "            im_A = cv2.cvtColor(cv2.imread(path_A), cv2.COLOR_BGR2RGB)\n",
    "            im_B = cv2.imread(path_B)\n",
    "            im_B = im_B[:,239:(1024-239),:]\n",
    "            #print(im_A.shape, im_B.shape)\n",
    "            im_B = cv2.resize(im_B, (im_A.shape[1], im_A.shape[0]))\n",
    "            \n",
    "\n",
    "            im_AB = np.concatenate([im_A, im_B], 1)\n",
    "            cv2.imwrite(path_AB, im_AB)\n"
   ]
  }
 ],
 "metadata": {
  "kernelspec": {
   "display_name": "Python 3",
   "language": "python",
   "name": "python3"
  },
  "language_info": {
   "codemirror_mode": {
    "name": "ipython",
    "version": 3
   },
   "file_extension": ".py",
   "mimetype": "text/x-python",
   "name": "python",
   "nbconvert_exporter": "python",
   "pygments_lexer": "ipython3",
   "version": "3.6.1"
  }
 },
 "nbformat": 4,
 "nbformat_minor": 2
}
